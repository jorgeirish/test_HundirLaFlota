{
 "cells": [
  {
   "cell_type": "code",
   "execution_count": null,
   "metadata": {},
   "outputs": [],
   "source": [
    "import numpy as np"
   ]
  },
  {
   "cell_type": "code",
   "execution_count": null,
   "metadata": {},
   "outputs": [],
   "source": [
    "# Tablero de la maquina\n",
    "\n",
    "tablero_machine = np.full((10,10),\" \")\n",
    "\n",
    "print(\"Estos son tus barcos\")\n",
    "\n",
    "def LockIn_maquina(barco):\n",
    "\n",
    "    eslora = barco\n",
    "    import random\n",
    "\n",
    "    while True:\n",
    "        # 'N' - 'S' - 'E' - 'O'\n",
    "        orient = random.choice(['N', 'S', 'E', 'O'])\n",
    "\n",
    "        # Posicion inicial del barco\n",
    "        current_pos = np.random.randint(10, size = 2)\n",
    "    \n",
    "        fila = current_pos[0]\n",
    "        col = current_pos[1]\n",
    "    \n",
    "        # Recogemos las 4 posiciones colindantes a current_pos\n",
    "        coors_posN = tablero_machine[fila:fila - eslora:-1, col]\n",
    "        coors_posE = tablero_machine[fila, col: col + eslora]\n",
    "        coors_posS = tablero_machine[fila:fila + eslora, col]\n",
    "        coors_posO = tablero_machine[fila, col: col - eslora:-1]\n",
    "    \n",
    "        # Comprobamos si esas posiciones son validas\n",
    "        # Orientacion Norte\n",
    "        if orient == 'N' and 0 <= fila - eslora < 10 and 'O' not in coors_posN:\n",
    "            tablero_machine[fila:fila - eslora:-1, col] = 'O'\n",
    "            break\n",
    "\n",
    "        # Orientacion Este\n",
    "        elif orient == 'E' and 0 <= col + eslora < 10 and 'O' not in coors_posE:\n",
    "            tablero_machine[fila, col: col + eslora] = 'O'\n",
    "            break\n",
    "\n",
    "        # Orientacion Sur\n",
    "        elif orient == 'S' and 0 <= fila + eslora < 10 and 'O' not in coors_posS:\n",
    "            tablero_machine[fila:fila + eslora, col] = 'O'\n",
    "            break\n",
    "\n",
    "        # Orientacion Oeste\n",
    "        elif orient == 'O' and 0 <= col - eslora < 10 and 'O' not in coors_posO:\n",
    "            tablero_machine[fila, col: col - eslora:-1] = 'O'\n",
    "            break\n",
    "\n",
    "        # No cumple con las dimensiones del tablero, o hay un barco ahi\n",
    "        # Probamos con otra coordenada\n",
    "        else:\n",
    "            continue\n",
    "    return \"\"\n",
    "\n",
    "\"\"\"print(tablero_machine,\n",
    "LockIn_maquina(1),\n",
    "LockIn_maquina(1),\n",
    "LockIn_maquina(1),\n",
    "LockIn_maquina(1),\n",
    "LockIn_maquina(2),\n",
    "LockIn_maquina(2),\n",
    "LockIn_maquina(2),\n",
    "LockIn_maquina(3),\n",
    "LockIn_maquina(3),\n",
    "LockIn_maquina(4))\"\"\""
   ]
  }
 ],
 "metadata": {
  "kernelspec": {
   "display_name": "Python 3",
   "language": "python",
   "name": "python3"
  },
  "language_info": {
   "name": "python",
   "version": "3.9.13"
  },
  "orig_nbformat": 4,
  "vscode": {
   "interpreter": {
    "hash": "8df1771556d69f9aa81c7e5b9f82a1f88ce361bbedd71943be1c74c804727adb"
   }
  }
 },
 "nbformat": 4,
 "nbformat_minor": 2
}
