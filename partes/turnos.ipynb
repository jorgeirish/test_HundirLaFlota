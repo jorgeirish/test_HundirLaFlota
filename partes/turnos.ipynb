{
 "cells": [
  {
   "cell_type": "code",
   "execution_count": null,
   "metadata": {},
   "outputs": [],
   "source": [
    "import numpy as np"
   ]
  },
  {
   "cell_type": "code",
   "execution_count": null,
   "metadata": {},
   "outputs": [],
   "source": [
    "while True:\n",
    "    if \"O\" in tablero_machine:\n",
    "\n",
    "        juego_player = np.full((10,10),\"~\") #mapa que imprime\n",
    "        disparo = tablero_machine[0:10] #manda el disparo al mapa de la máquina\n",
    "\n",
    "        # pider coordenadas\n",
    "\n",
    "        disparar_fila = int(input(\"Selecciona una fila\"))-1\n",
    "        disparar_colm = int(input(\"Selecciona una columna\"))-1\n",
    "\n",
    "        disparo = tablero_machine[disparar_fila,disparar_colm] # disparo en coordenadas del mapa de máquina\n",
    "        print((disparar_fila+1,disparar_colm+1))\n",
    "\n",
    "        # Mientras aciertas\n",
    "        while disparo == 'O':\n",
    "            tablero_machine[disparar_fila,disparar_colm] = 'X'\n",
    "            juego_player[disparar_fila,disparar_colm] = 'X'\n",
    "            print(juego_player)\n",
    "\n",
    "            disparar_fila = int(input(\"Selecciona una fila\"))-1\n",
    "            disparar_colm = int(input(\"Selecciona una columna\"))-1  \n",
    "            continue\n",
    "\n",
    "        # Si das agua\n",
    "        if disparo != 'O':\n",
    "            juego_player[disparar_fila,disparar_colm] = '*'\n",
    "\n",
    "        #Falta si disparo donde ya disparé\n",
    "        while disparo == \"X\" or disparo == \"*\":\n",
    "            print(\"No puedes disparar ahí, prueba de nuevo\")\n",
    "\n",
    "            disparar_fila = int(input(\"Selecciona una fila\"))-1\n",
    "            disparar_colm = int(input(\"Selecciona una columna\"))-1\n",
    "            continue\n",
    "        print(juego_player)\n",
    "        \n",
    "    elif not \"O\" in tablero_machine:\n",
    "        print(\"has ganado\")"
   ]
  }
 ],
 "metadata": {
  "kernelspec": {
   "display_name": "Python 3",
   "language": "python",
   "name": "python3"
  },
  "language_info": {
   "name": "python",
   "version": "3.9.13"
  },
  "orig_nbformat": 4,
  "vscode": {
   "interpreter": {
    "hash": "8df1771556d69f9aa81c7e5b9f82a1f88ce361bbedd71943be1c74c804727adb"
   }
  }
 },
 "nbformat": 4,
 "nbformat_minor": 2
}
