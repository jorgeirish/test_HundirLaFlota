{
 "cells": [
  {
   "cell_type": "code",
   "execution_count": 1,
   "metadata": {},
   "outputs": [],
   "source": [
    "import numpy as np"
   ]
  },
  {
   "cell_type": "code",
   "execution_count": 2,
   "metadata": {},
   "outputs": [
    {
     "name": "stdout",
     "output_type": "stream",
     "text": [
      "Estos son tus barcos\n"
     ]
    },
    {
     "ename": "NameError",
     "evalue": "name 'colocar_barcos' is not defined",
     "output_type": "error",
     "traceback": [
      "\u001b[1;31m---------------------------------------------------------------------------\u001b[0m",
      "\u001b[1;31mNameError\u001b[0m                                 Traceback (most recent call last)",
      "Cell \u001b[1;32mIn[2], line 8\u001b[0m\n\u001b[0;32m      4\u001b[0m \u001b[39mprint\u001b[39m(\u001b[39m\"\u001b[39m\u001b[39mEstos son tus barcos\u001b[39m\u001b[39m\"\u001b[39m)\n\u001b[0;32m      6\u001b[0m \u001b[39mif\u001b[39;00m inicio\u001b[39m.\u001b[39mlower() \u001b[39m==\u001b[39m \u001b[39m\"\u001b[39m\u001b[39mp\u001b[39m\u001b[39m\"\u001b[39m:\n\u001b[0;32m      7\u001b[0m     \u001b[39mprint\u001b[39m(tablero,\n\u001b[1;32m----> 8\u001b[0m           colocar_barcos(\u001b[39m1\u001b[39m),\n\u001b[0;32m      9\u001b[0m           colocar_barcos(\u001b[39m1\u001b[39m),\n\u001b[0;32m     10\u001b[0m           colocar_barcos(\u001b[39m1\u001b[39m),\n\u001b[0;32m     11\u001b[0m           colocar_barcos(\u001b[39m1\u001b[39m),\n\u001b[0;32m     12\u001b[0m           colocar_barcos(\u001b[39m2\u001b[39m),\n\u001b[0;32m     13\u001b[0m           colocar_barcos(\u001b[39m2\u001b[39m),\n\u001b[0;32m     14\u001b[0m           colocar_barcos(\u001b[39m2\u001b[39m),\n\u001b[0;32m     15\u001b[0m           colocar_barcos(\u001b[39m3\u001b[39m),\n\u001b[0;32m     16\u001b[0m           colocar_barcos(\u001b[39m3\u001b[39m),\n\u001b[0;32m     17\u001b[0m           colocar_barcos(\u001b[39m4\u001b[39m))\n\u001b[0;32m     19\u001b[0m \u001b[39melse\u001b[39;00m:\n\u001b[0;32m     20\u001b[0m     \u001b[39mprint\u001b[39m(\u001b[39m\"\u001b[39m\u001b[39mAdios\u001b[39m\u001b[39m\"\u001b[39m)\n",
      "\u001b[1;31mNameError\u001b[0m: name 'colocar_barcos' is not defined"
     ]
    }
   ],
   "source": [
    "inicio = input(\"Para jugar pulsa P, para salir pulsa O\")\n",
    "\n",
    "tablero = np.full((10,10),\" \")\n",
    "print(\"Estos son tus barcos\")\n",
    "\n",
    "if inicio.lower() == \"p\":\n",
    "    print(tablero,\n",
    "          colocar_barcos(1),\n",
    "          colocar_barcos(1),\n",
    "          colocar_barcos(1),\n",
    "          colocar_barcos(1),\n",
    "          colocar_barcos(2),\n",
    "          colocar_barcos(2),\n",
    "          colocar_barcos(2),\n",
    "          colocar_barcos(3),\n",
    "          colocar_barcos(3),\n",
    "          colocar_barcos(4))\n",
    "\n",
    "else:\n",
    "    print(\"Adios\")\n",
    "\n",
    "tablero_machine = (tablero_machine,\n",
    "                       LockIn_maquina(1),\n",
    "                       LockIn_maquina(1),\n",
    "                       LockIn_maquina(1),\n",
    "                       LockIn_maquina(1),\n",
    "                       LockIn_maquina(2),\n",
    "                       LockIn_maquina(2),\n",
    "                       LockIn_maquina(2),\n",
    "                       LockIn_maquina(3),\n",
    "                       LockIn_maquina(3),\n",
    "                       LockIn_maquina(4)) "
   ]
  }
 ],
 "metadata": {
  "kernelspec": {
   "display_name": "Python 3",
   "language": "python",
   "name": "python3"
  },
  "language_info": {
   "codemirror_mode": {
    "name": "ipython",
    "version": 3
   },
   "file_extension": ".py",
   "mimetype": "text/x-python",
   "name": "python",
   "nbconvert_exporter": "python",
   "pygments_lexer": "ipython3",
   "version": "3.9.13"
  },
  "orig_nbformat": 4,
  "vscode": {
   "interpreter": {
    "hash": "8df1771556d69f9aa81c7e5b9f82a1f88ce361bbedd71943be1c74c804727adb"
   }
  }
 },
 "nbformat": 4,
 "nbformat_minor": 2
}
