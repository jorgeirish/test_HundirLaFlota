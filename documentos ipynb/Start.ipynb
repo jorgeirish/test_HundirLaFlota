{
 "cells": [
  {
   "cell_type": "code",
   "execution_count": 3,
   "metadata": {},
   "outputs": [
    {
     "ename": "ModuleNotFoundError",
     "evalue": "No module named 'LockIn'",
     "output_type": "error",
     "traceback": [
      "\u001b[1;31m---------------------------------------------------------------------------\u001b[0m",
      "\u001b[1;31mModuleNotFoundError\u001b[0m                       Traceback (most recent call last)",
      "Cell \u001b[1;32mIn[3], line 2\u001b[0m\n\u001b[0;32m      1\u001b[0m \u001b[39mimport\u001b[39;00m \u001b[39mnumpy\u001b[39;00m \u001b[39mas\u001b[39;00m \u001b[39mnp\u001b[39;00m\n\u001b[1;32m----> 2\u001b[0m \u001b[39mimport\u001b[39;00m \u001b[39mLockIn\u001b[39;00m\u001b[39m.\u001b[39;00m\u001b[39mpy\u001b[39;00m\n\u001b[0;32m      4\u001b[0m inicio \u001b[39m=\u001b[39m \u001b[39minput\u001b[39m(\u001b[39m\"\u001b[39m\u001b[39mPara jugar pulsa P, para salir pulsa O\u001b[39m\u001b[39m\"\u001b[39m)\n\u001b[0;32m      6\u001b[0m \u001b[39mif\u001b[39;00m inicio\u001b[39m.\u001b[39mlower() \u001b[39m==\u001b[39m \u001b[39m\"\u001b[39m\u001b[39mp\u001b[39m\u001b[39m\"\u001b[39m:\n",
      "\u001b[1;31mModuleNotFoundError\u001b[0m: No module named 'LockIn'"
     ]
    }
   ],
   "source": [
    "import numpy as np\n",
    "import LockIn_2\n",
    "\n",
    "inicio = input(\"Para jugar pulsa P, para salir pulsa O\")\n",
    "\n",
    "if inicio.lower() == \"p\":\n",
    "    print(LockIn_2.LockIn())\n",
    "\n",
    "    cambiar = input(\"Para comfirmar pulsa A. Si no te gustan los barcos puedes cambiar pulsando N\")\n",
    "\n",
    "    if cambiar.lower() == \"a\":\n",
    "        print(\"Este es el mapa rival\", LockIn_machine.disparo)\n",
    "    elif cambiar.lower() == \"n\":\n",
    "        print(LockIn_2.LockIn())\n",
    "\n",
    "else:\n",
    "    print(\"Adios\")\n"
   ]
  }
 ],
 "metadata": {
  "kernelspec": {
   "display_name": "Python 3",
   "language": "python",
   "name": "python3"
  },
  "language_info": {
   "codemirror_mode": {
    "name": "ipython",
    "version": 3
   },
   "file_extension": ".py",
   "mimetype": "text/x-python",
   "name": "python",
   "nbconvert_exporter": "python",
   "pygments_lexer": "ipython3",
   "version": "3.9.13"
  },
  "orig_nbformat": 4,
  "vscode": {
   "interpreter": {
    "hash": "8df1771556d69f9aa81c7e5b9f82a1f88ce361bbedd71943be1c74c804727adb"
   }
  }
 },
 "nbformat": 4,
 "nbformat_minor": 2
}
