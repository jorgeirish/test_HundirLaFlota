{
 "cells": [
  {
   "cell_type": "code",
   "execution_count": 1,
   "metadata": {},
   "outputs": [
    {
     "name": "stdout",
     "output_type": "stream",
     "text": [
      "Requirement already satisfied: numpy in c:\\users\\jorge\\appdata\\local\\programs\\python\\python39\\lib\\site-packages (1.24.2)Note: you may need to restart the kernel to use updated packages.\n",
      "\n",
      "\n",
      "Usage:   \n",
      "  c:\\Users\\jorge\\AppData\\Local\\Programs\\Python\\Python39\\python.exe -m pip <command> [options]\n",
      "\n",
      "Commands:\n",
      "  install                     Install packages.\n",
      "  download                    Download packages.\n",
      "  uninstall                   Uninstall packages.\n",
      "  freeze                      Output installed packages in requirements format.\n",
      "  inspect                     Inspect the python environment.\n",
      "  list                        List installed packages.\n",
      "  show                        Show information about installed packages.\n",
      "  check                       Verify installed packages have compatible dependencies.\n",
      "  config                      Manage local and global configuration.\n",
      "  search                      Search PyPI for packages.\n",
      "  cache                       Inspect and manage pip's wheel cache.\n",
      "  index                       Inspect information available from package indexes.\n",
      "  wheel                       Build wheels from your requirements.\n",
      "  hash                        Compute hashes of package archives.\n",
      "  completion                  A helper command used for command completion.\n",
      "  debug                       Show information useful for debugging.\n",
      "  help                        Show help for commands.\n",
      "\n",
      "General Options:\n",
      "  -h, --help                  Show help.\n",
      "  --debug                     Let unhandled exceptions propagate outside the\n",
      "                              main subroutine, instead of logging them to\n",
      "                              stderr.\n",
      "  --isolated                  Run pip in an isolated mode, ignoring\n",
      "                              environment variables and user configuration.\n",
      "  --require-virtualenv        Allow pip to only run in a virtual environment;\n",
      "                              exit with an error otherwise.\n",
      "  --python <python>           Run pip with the specified Python interpreter.\n",
      "  -v, --verbose               Give more output. Option is additive, and can be\n",
      "                              used up to 3 times.\n",
      "  -V, --version               Show version and exit.\n",
      "  -q, --quiet                 Give less output. Option is additive, and can be\n",
      "                              used up to 3 times (corresponding to WARNING,\n",
      "                              ERROR, and CRITICAL logging levels).\n",
      "  --log <path>                Path to a verbose appending log.\n",
      "  --no-input                  Disable prompting for input.\n",
      "  --proxy <proxy>             Specify a proxy in the form\n",
      "                              scheme://[user:passwd@]proxy.server:port.\n",
      "  --retries <retries>         Maximum number of retries each connection should\n",
      "                              attempt (default 5 times).\n",
      "  --timeout <sec>             Set the socket timeout (default 15 seconds).\n",
      "  --exists-action <action>    Default action when a path already exists:\n",
      "                              (s)witch, (i)gnore, (w)ipe, (b)ackup, (a)bort.\n",
      "  --trusted-host <hostname>   Mark this host or host:port pair as trusted,\n",
      "                              even though it does not have valid or any HTTPS.\n",
      "  --cert <path>               Path to PEM-encoded CA certificate bundle. If\n",
      "                              provided, overrides the default. See 'SSL\n",
      "                              Certificate Verification' in pip documentation\n",
      "                              for more information.\n",
      "  --client-cert <path>        Path to SSL client certificate, a single file\n",
      "                              containing the private key and the certificate\n",
      "                              in PEM format.\n",
      "  --cache-dir <dir>           Store the cache data in <dir>.\n",
      "  --no-cache-dir              Disable the cache.\n",
      "  --disable-pip-version-check\n",
      "                              Don't periodically check PyPI to determine\n",
      "                              whether a new version of pip is available for\n",
      "                              download. Implied with --no-index.\n",
      "  --no-color                  Suppress colored output.\n",
      "  --no-python-version-warning\n",
      "                              Silence deprecation warnings for upcoming\n",
      "                              unsupported Pythons.\n",
      "  --use-feature <feature>     Enable new functionality, that may be backward\n",
      "                              incompatible.\n",
      "  --use-deprecated <feature>  Enable deprecated functionality, that will be\n",
      "                              removed in the future.\n",
      "Note: you may need to restart the kernel to use updated packages.\n",
      "Requirement already satisfied: pip in c:\\users\\jorge\\appdata\\local\\programs\\python\\python39\\lib\\site-packages (23.0)\n",
      "Note: you may need to restart the kernel to use updated packages.\n"
     ]
    }
   ],
   "source": [
    "%pip install numpy\n",
    "%pip\n",
    "%pip install pip --upgrade"
   ]
  },
  {
   "cell_type": "code",
   "execution_count": 2,
   "metadata": {},
   "outputs": [],
   "source": [
    "import numpy as np"
   ]
  },
  {
   "cell_type": "code",
   "execution_count": 4,
   "metadata": {},
   "outputs": [
    {
     "name": "stdout",
     "output_type": "stream",
     "text": [
      "[['~' '~' '~' '~' '~' '~' '~' '~' '~' '~']\n",
      " ['~' '~' '~' '~' '~' '~' '~' '~' '~' '~']\n",
      " ['~' '~' '~' '~' '~' '~' '~' '~' '~' '~']\n",
      " ['~' '~' '~' '~' '~' '~' '~' '~' '~' '~']\n",
      " ['~' '~' '~' '~' '~' '~' '~' '~' '~' '~']\n",
      " ['~' '~' '~' '~' '~' '~' '~' '~' '~' '~']\n",
      " ['~' '~' '~' '~' '~' '~' '~' '~' '~' '~']\n",
      " ['~' '~' '~' '~' '~' '~' '~' '~' '~' '~']\n",
      " ['~' '~' '~' '~' '~' '~' '~' '~' '~' '~']\n",
      " ['~' '~' '~' '~' '~' '~' '~' '~' '~' '~']]\n"
     ]
    }
   ],
   "source": [
    "tablero = np.full((10,10),\"~\")\n",
    "\n",
    "\"\"\"\n",
    "tablero[0,0] = \" \"\n",
    "\n",
    "tablero[0,1] = \"A\"\n",
    "tablero[0,2] = \"B\"\n",
    "tablero[0,3] = \"C\"\n",
    "tablero[0,4] = \"D\"\n",
    "tablero[0,5] = \"E\"\n",
    "tablero[0,6] = \"F\"\n",
    "tablero[0,7] = \"G\"\n",
    "tablero[0,8] = \"H\"\n",
    "tablero[0,9] = \"I\"\n",
    "tablero[0,10] = \"J\"\n",
    "\n",
    "tablero[1,0] = \"1\"\n",
    "tablero[2,0] = \"2\"\n",
    "tablero[3,0] = \"3\"\n",
    "tablero[4,0] = \"4\"\n",
    "tablero[5,0] = \"5\"\n",
    "tablero[6,0] = \"6\"\n",
    "tablero[7,0] = \"7\"\n",
    "tablero[8,0] = \"8\"\n",
    "tablero[9,0] = \"9\"\n",
    "tablero[10,0] = \"10\"\n",
    "\"\"\"\n",
    "\n",
    "\n",
    "print(tablero)"
   ]
  },
  {
   "cell_type": "code",
   "execution_count": 4,
   "metadata": {},
   "outputs": [
    {
     "name": "stdout",
     "output_type": "stream",
     "text": [
      "[['~' '~' '~' '~' '~' '~' '~' '~' '~' '~']\n",
      " ['~' '~' '~' '~' '~' '~' '~' '~' '~' '~']\n",
      " ['~' '~' 'X' 'X' '~' '~' '~' '~' '~' '~']\n",
      " ['~' '~' '~' '~' '~' '~' '~' 'X' '~' '~']\n",
      " ['~' '~' '~' '~' '~' '~' '~' '~' '~' '~']\n",
      " ['~' '~' '~' '~' '~' '~' '~' '~' '~' '~']\n",
      " ['~' '~' '~' '~' '~' '~' '~' '~' '~' '~']\n",
      " ['~' '~' '~' '~' '~' '~' '~' '~' '~' '~']\n",
      " ['~' '~' '~' '~' '~' '~' '~' '~' '~' '~']\n",
      " ['~' '~' '~' '~' '~' '~' '~' '~' '~' '~']]\n"
     ]
    }
   ],
   "source": [
    "tablero = np.full((10,10),\"~\")\n",
    "\n",
    "barco_1_1 = tablero[0:10]\n",
    "barco_1_1[3,7] = \"X\"\n",
    "\n",
    "barco_2_1 = tablero[0:10]\n",
    "barco_2_1[(2,2),(2,3)] = \"X\"\n",
    "\n",
    "print(tablero)"
   ]
  },
  {
   "cell_type": "code",
   "execution_count": 5,
   "metadata": {},
   "outputs": [],
   "source": [
    "dict_barcos = {\"submarino_1\": 1,\n",
    "               \"submarino_2\": 1,\n",
    "               \"submarino_3\": 1,\n",
    "               \"submarino_4\": 1,\n",
    "               \"acorazado_1\": 2,\n",
    "               \"acorazado_2\": 2,\n",
    "               \"acorazado_3\": 2,\n",
    "               \"destructor_1\": 3,\n",
    "               \"destructor_1\": 3,\n",
    "               \"portaviones\": 4}\n",
    "\n",
    "dict_barcos = {\"submarino\": 1,\n",
    "               \"acorazado\": 2,\n",
    "               \"destructor\": 3,\n",
    "               \"portaviones\": 4}\n",
    "\n"
   ]
  },
  {
   "cell_type": "code",
   "execution_count": 6,
   "metadata": {},
   "outputs": [
    {
     "name": "stdout",
     "output_type": "stream",
     "text": [
      "Barco incorrecto\n",
      "2\n"
     ]
    }
   ],
   "source": [
    "def selec_barco ():\n",
    "    dict_barcos = {\"submarino\": 1,\n",
    "                   \"acorazado\": 2,\n",
    "                   \"destructor\": 3,\n",
    "                   \"destructor\": 4}\n",
    "    \n",
    "    barco = str(input(\"Elige el barco: Submarino, Acorazonado, Destructor, portaviones\")).lower()\n",
    "\n",
    "    if barco in dict_barcos:\n",
    "        return dict_barcos[barco]\n",
    "    else:\n",
    "        print(\"Barco incorrecto\")\n",
    "        return selec_barco()\n",
    "    \n",
    "print(selec_barco())\n"
   ]
  },
  {
   "cell_type": "code",
   "execution_count": 7,
   "metadata": {},
   "outputs": [
    {
     "name": "stdout",
     "output_type": "stream",
     "text": [
      "(4, 5)\n"
     ]
    }
   ],
   "source": [
    "def posicion ():\n",
    "    row = int(input(\"Introduce la fila donde quieres situar el barco: \"))\n",
    "    column = int(input(\"Introduce la columna donde quieres situar el barco: \"))\n",
    "\n",
    "    while row > 10 or column > 10:\n",
    "        print(\"Coordenadas erroneas, vuelve a introducirlas\")\n",
    "        return posicion()\n",
    "        \n",
    "    if row > 0 and column > 0:\n",
    "        row = row-1\n",
    "        column = column-1\n",
    "        return (row, column)\n",
    "\n",
    "\n",
    "print(posicion())"
   ]
  },
  {
   "cell_type": "code",
   "execution_count": 8,
   "metadata": {},
   "outputs": [
    {
     "name": "stdout",
     "output_type": "stream",
     "text": [
      "h\n"
     ]
    }
   ],
   "source": [
    "def orientacion():\n",
    "    direccion = str(input(\"Selecciona H si quieres poner el barco en horizontal o V si lo quieres en vertical: \"))\n",
    "\n",
    "    if direccion.lower() == \"v\" or direccion.lower() == \"h\":\n",
    "        return direccion.lower()\n",
    "    else:\n",
    "        print(\"Orientación incorrecta\")\n",
    "        return orientacion()\n",
    "\n",
    "print(orientacion())"
   ]
  },
  {
   "cell_type": "code",
   "execution_count": 9,
   "metadata": {},
   "outputs": [
    {
     "ename": "IndentationError",
     "evalue": "expected an indented block (112245594.py, line 8)",
     "output_type": "error",
     "traceback": [
      "\u001b[1;36m  Cell \u001b[1;32mIn[9], line 8\u001b[1;36m\u001b[0m\n\u001b[1;33m    elif orientacion ==V:\u001b[0m\n\u001b[1;37m                                 ^\u001b[0m\n\u001b[1;31mIndentationError\u001b[0m\u001b[1;31m:\u001b[0m expected an indented block\n"
     ]
    }
   ],
   "source": [
    "def colocarBarco(tamBarco,posicion,orientacion):\n",
    "\n",
    "    if orientacion == h:\n",
    "        for column in orientacion:\n",
    "            column = 0 and column < tamBarco\n",
    "            \n",
    "\n",
    "    elif orientacion ==V:        "
   ]
  },
  {
   "cell_type": "code",
   "execution_count": null,
   "metadata": {},
   "outputs": [],
   "source": []
  },
  {
   "cell_type": "code",
   "execution_count": null,
   "metadata": {},
   "outputs": [
    {
     "ename": "ValueError",
     "evalue": "low >= high",
     "output_type": "error",
     "traceback": [
      "\u001b[1;31m---------------------------------------------------------------------------\u001b[0m",
      "\u001b[1;31mValueError\u001b[0m                                Traceback (most recent call last)",
      "Cell \u001b[1;32mIn[206], line 17\u001b[0m\n\u001b[0;32m     14\u001b[0m         \u001b[39mreturn\u001b[39;00m np\u001b[39m.\u001b[39mrandom\u001b[39m.\u001b[39mrandint(\u001b[39m0\u001b[39m,\u001b[39m-\u001b[39m\u001b[39m1\u001b[39m)\n\u001b[0;32m     16\u001b[0m tablero \u001b[39m=\u001b[39m np\u001b[39m.\u001b[39mfull((\u001b[39m10\u001b[39m,\u001b[39m10\u001b[39m),\u001b[39m\"\u001b[39m\u001b[39m~\u001b[39m\u001b[39m\"\u001b[39m)\n\u001b[1;32m---> 17\u001b[0m \u001b[39mprint\u001b[39m(tablero(barcos_aleatorios(barcos)))\n",
      "Cell \u001b[1;32mIn[118], line 2\u001b[0m, in \u001b[0;36mbarcos_aleatorios\u001b[1;34m(barcos)\u001b[0m\n\u001b[0;32m      1\u001b[0m \u001b[39mdef\u001b[39;00m \u001b[39mbarcos_aleatorios\u001b[39m(barcos):\n\u001b[1;32m----> 2\u001b[0m     \u001b[39mreturn\u001b[39;00m np\u001b[39m.\u001b[39;49mrandom\u001b[39m.\u001b[39;49mrandint(\u001b[39m10\u001b[39;49m,\u001b[39m-\u001b[39;49m\u001b[39m1\u001b[39;49m)\n",
      "File \u001b[1;32mmtrand.pyx:763\u001b[0m, in \u001b[0;36mnumpy.random.mtrand.RandomState.randint\u001b[1;34m()\u001b[0m\n",
      "File \u001b[1;32m_bounded_integers.pyx:1338\u001b[0m, in \u001b[0;36mnumpy.random._bounded_integers._rand_int32\u001b[1;34m()\u001b[0m\n",
      "\u001b[1;31mValueError\u001b[0m: low >= high"
     ]
    }
   ],
   "source": [
    "class barcos:\n",
    "    barco_1_1 = range(1)\n",
    "    barco_1_2 = range(1)\n",
    "    barco_1_3 = range(1)\n",
    "    barco_1_4 = range(1)\n",
    "    barco_2_1 = range(2)\n",
    "    barco_2_2 = range(2)\n",
    "    barco_2_3 = range(2)\n",
    "    barco_3_1 = range(3)\n",
    "    barco_3_1 = range(3)\n",
    "    barco_4_1 = range(4)\n",
    "\n",
    "    def barcos_aleatorios(barcos):\n",
    "        return np.random.randint(0,-1)\n",
    "    \n",
    "tablero = np.full((10,10),\"~\")\n",
    "print(tablero(barcos_aleatorios(barcos)))\n",
    "\n"
   ]
  },
  {
   "cell_type": "code",
   "execution_count": null,
   "metadata": {},
   "outputs": [],
   "source": []
  },
  {
   "cell_type": "code",
   "execution_count": null,
   "metadata": {},
   "outputs": [
    {
     "ename": "ValueError",
     "evalue": "low >= high",
     "output_type": "error",
     "traceback": [
      "\u001b[1;31m---------------------------------------------------------------------------\u001b[0m",
      "\u001b[1;31mValueError\u001b[0m                                Traceback (most recent call last)",
      "Cell \u001b[1;32mIn[127], line 1\u001b[0m\n\u001b[1;32m----> 1\u001b[0m \u001b[39mprint\u001b[39m(tablero(barcos_aleatorios(barcos)))\n",
      "Cell \u001b[1;32mIn[118], line 2\u001b[0m, in \u001b[0;36mbarcos_aleatorios\u001b[1;34m(barcos)\u001b[0m\n\u001b[0;32m      1\u001b[0m \u001b[39mdef\u001b[39;00m \u001b[39mbarcos_aleatorios\u001b[39m(barcos):\n\u001b[1;32m----> 2\u001b[0m     \u001b[39mreturn\u001b[39;00m np\u001b[39m.\u001b[39;49mrandom\u001b[39m.\u001b[39;49mrandint(\u001b[39m10\u001b[39;49m,\u001b[39m-\u001b[39;49m\u001b[39m1\u001b[39;49m)\n",
      "File \u001b[1;32mmtrand.pyx:763\u001b[0m, in \u001b[0;36mnumpy.random.mtrand.RandomState.randint\u001b[1;34m()\u001b[0m\n",
      "File \u001b[1;32m_bounded_integers.pyx:1338\u001b[0m, in \u001b[0;36mnumpy.random._bounded_integers._rand_int32\u001b[1;34m()\u001b[0m\n",
      "\u001b[1;31mValueError\u001b[0m: low >= high"
     ]
    }
   ],
   "source": [
    "print(tablero(barcos_aleatorios(barcos)))"
   ]
  },
  {
   "cell_type": "code",
   "execution_count": 16,
   "metadata": {},
   "outputs": [],
   "source": [
    "barco_1_1 = range(1)\n",
    "barco_1_2 = range(1)\n",
    "barco_1_3 = range(1)\n",
    "barco_1_4 = range(1)\n",
    "barco_2_1 = range(2)\n",
    "barco_2_2 = range(2)\n",
    "barco_2_3 = range(2)\n",
    "barco_3_1 = range(3)\n",
    "barco_3_1 = range(3)\n",
    "barco_4_1 = range(4)"
   ]
  },
  {
   "cell_type": "code",
   "execution_count": 7,
   "metadata": {},
   "outputs": [
    {
     "data": {
      "text/plain": [
       "array([['~', '~', '~', '~', '~', '~', '~', '~', '~', '~'],\n",
       "       ['~', '~', 'O', '~', '~', '~', '~', '~', '~', '~'],\n",
       "       ['~', '~', 'O', 'O', '~', '~', '~', '~', '~', '~'],\n",
       "       ['~', '~', 'O', 'O', '~', '~', '~', '~', '~', '~'],\n",
       "       ['~', '~', 'O', 'O', '~', '~', '~', '~', '~', '~'],\n",
       "       ['~', 'O', 'O', 'O', '~', '~', '~', '~', '~', '~'],\n",
       "       ['~', '~', '~', '~', '~', '~', '~', '~', '~', '~'],\n",
       "       ['~', '~', '~', '~', '~', '~', '~', '~', '~', '~'],\n",
       "       ['~', '~', '~', '~', '~', '~', '~', '~', '~', '~'],\n",
       "       ['~', '~', '~', '~', '~', '~', '~', '~', '~', '~']], dtype='<U1')"
      ]
     },
     "execution_count": 7,
     "metadata": {},
     "output_type": "execute_result"
    }
   ],
   "source": [
    "eslora = 2\n",
    "import random\n",
    "\n",
    "while True:\n",
    "    # 'N' - 'S' - 'E' - 'O'\n",
    "    orient = random.choice(['N', 'S', 'E', 'O'])\n",
    "\n",
    "    # Posicion inicial del barco\n",
    "    current_pos = np.random.randint(10, size = 2)\n",
    "    \n",
    "    fila = current_pos[0]\n",
    "    col = current_pos[1]\n",
    "    \n",
    "    # Recogemos las 4 posiciones colindantes a current_pos\n",
    "    coors_posiN = tablero[fila:fila - eslora:-1, col]\n",
    "    coors_posiE = tablero[fila, col: col + eslora]\n",
    "    coors_posiS = tablero[fila:fila + eslora, col]\n",
    "    coors_posiO = tablero[fila, col: col - eslora:-1]\n",
    "    \n",
    "    # Comprobamos si esas posiciones son validas\n",
    "    # Orientacion Norte\n",
    "    if orient == 'N' and 0 <= fila - eslora < 10 and 'O' not in coors_posiN:\n",
    "        tablero[fila:fila - eslora:-1, col] = 'O'\n",
    "        break\n",
    "\n",
    "    # Orientacion Este\n",
    "    elif orient == 'E' and 0 <= col + eslora < 10 and 'O' not in coors_posiE:\n",
    "        tablero[fila, col: col + eslora] = 'O'\n",
    "        break\n",
    "\n",
    "    # Orientacion Sur\n",
    "    elif orient == 'S' and 0 <= fila + eslora < 10 and 'O' not in coors_posiS:\n",
    "        tablero[fila:fila + eslora, col] = 'O'\n",
    "        break\n",
    "\n",
    "    # Orientacion Oeste\n",
    "    elif orient == 'O' and 0 <= col - eslora < 10 and 'O' not in coors_posiO:\n",
    "        tablero[fila, col: col - eslora:-1] = 'O'\n",
    "        break\n",
    "\n",
    "    # No cumple con las dimensiones del tablero, o hay un barco ahi\n",
    "    # Probamos con otra coordenada\n",
    "    else:\n",
    "        continue\n",
    "tablero"
   ]
  },
  {
   "cell_type": "code",
   "execution_count": 11,
   "metadata": {},
   "outputs": [],
   "source": [
    "import numpy as np\n",
    "\n",
    "# Tablero 10x10 con agua\n",
    "\n",
    "tablero = np.full((10,10),\"~\")\n",
    "\n",
    "#Barcos y sus esloras\n",
    "\n",
    "ship1x1 = 1\n",
    "ship1x2 = 1\n",
    "ship1x3 = 1\n",
    "ship1x4 = 1\n",
    "ship2x1 = 2\n",
    "ship2x2 = 2\n",
    "ship2x3 = 2\n",
    "ship3x1 = 3\n",
    "ship3x2 = 3\n",
    "ship4x1 = 4\n",
    "\n",
    "def colocar_barcos(barco):\n",
    "\n",
    "    eslora = barco\n",
    "\n",
    "    while True:\n",
    "        # 'N' - 'S' - 'E' - 'O'\n",
    "        orient = random.choice(['N', 'S', 'E', 'O'])\n",
    "\n",
    "        # Posicion inicial del barco\n",
    "        current_pos = np.random.randint(10, size = 2)\n",
    "    \n",
    "        fila = current_pos[0]\n",
    "        col = current_pos[1]\n",
    "    \n",
    "        # Recogemos las 4 posiciones colindantes a current_pos\n",
    "        coors_posN = tablero[fila:fila - eslora:-1, col]\n",
    "        coors_posE = tablero[fila, col: col + eslora]\n",
    "        coors_posS = tablero[fila:fila + eslora, col]\n",
    "        coors_posO = tablero[fila, col: col - eslora:-1]\n",
    "    \n",
    "        # Comprobamos si esas posiciones son validas\n",
    "        # Orientacion Norte\n",
    "        if orient == 'N' and 0 <= fila - eslora < 10 and 'O' not in coors_posN:\n",
    "            tablero[fila:fila - eslora:-1, col] = 'O'\n",
    "            break\n",
    "\n",
    "        # Orientacion Este\n",
    "        elif orient == 'E' and 0 <= col + eslora < 10 and 'O' not in coors_posE:\n",
    "            tablero[fila, col: col + eslora] = 'O'\n",
    "            break\n",
    "\n",
    "        # Orientacion Sur\n",
    "        elif orient == 'S' and 0 <= fila + eslora < 10 and 'O' not in coors_posS:\n",
    "            tablero[fila:fila + eslora, col] = 'O'\n",
    "            break\n",
    "\n",
    "        # Orientacion Oeste\n",
    "        elif orient == 'O' and 0 <= col - eslora < 10 and 'O' not in coors_posO:\n",
    "            tablero[fila, col: col - eslora:-1] = 'O'\n",
    "            break\n",
    "\n",
    "        # No cumple con las dimensiones del tablero, o hay un barco ahi\n",
    "        # Probamos con otra coordenada\n",
    "        else:\n",
    "            continue\n",
    "    tablero\n",
    "\n",
    "print(colocar_barcos(ship1x1))\n",
    "print(colocar_barcos(ship1x2))\n",
    "print(colocar_barcos(ship1x3))\n",
    "print(colocar_barcos(ship1x4))\n",
    "print(colocar_barcos(ship2x1))\n",
    "print(colocar_barcos(ship2x2))\n",
    "print(colocar_barcos(ship2x3))\n",
    "print(colocar_barcos(ship3x1))\n",
    "print(colocar_barcos(ship3x2))\n",
    "print(colocar_barcos(ship4x1))"
   ]
  },
  {
   "cell_type": "code",
   "execution_count": null,
   "metadata": {},
   "outputs": [],
   "source": []
  },
  {
   "cell_type": "code",
   "execution_count": null,
   "metadata": {},
   "outputs": [],
   "source": []
  },
  {
   "cell_type": "code",
   "execution_count": null,
   "metadata": {},
   "outputs": [],
   "source": []
  }
 ],
 "metadata": {
  "kernelspec": {
   "display_name": "Python 3",
   "language": "python",
   "name": "python3"
  },
  "language_info": {
   "codemirror_mode": {
    "name": "ipython",
    "version": 3
   },
   "file_extension": ".py",
   "mimetype": "text/x-python",
   "name": "python",
   "nbconvert_exporter": "python",
   "pygments_lexer": "ipython3",
   "version": "3.9.13"
  },
  "orig_nbformat": 4,
  "vscode": {
   "interpreter": {
    "hash": "8df1771556d69f9aa81c7e5b9f82a1f88ce361bbedd71943be1c74c804727adb"
   }
  }
 },
 "nbformat": 4,
 "nbformat_minor": 2
}
