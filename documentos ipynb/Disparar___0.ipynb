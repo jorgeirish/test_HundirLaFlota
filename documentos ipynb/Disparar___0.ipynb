{
 "cells": [
  {
   "cell_type": "code",
<<<<<<< HEAD
   "execution_count": 10,
   "metadata": {},
   "outputs": [
    {
     "name": "stdout",
     "output_type": "stream",
     "text": [
      "[['~' '~' '~' '~' '~' '~' '~' '~' '~' '~']\n",
      " ['~' '~' '~' '~' '~' '~' '~' '~' '~' '~']\n",
      " ['~' '~' '~' '~' '~' '~' '~' '~' '~' '~']\n",
      " ['~' '~' '~' '~' '~' '~' '~' '~' '~' '~']\n",
      " ['~' '~' '~' '~' '~' '~' '~' '~' '~' '~']\n",
      " ['~' '~' '~' '~' '~' '~' 'X' '~' '~' '~']\n",
      " ['~' '~' '~' '~' '~' '~' '~' '~' '~' '~']\n",
      " ['~' '~' '~' '~' '~' '~' '~' '~' '~' '~']\n",
      " ['~' '~' '~' '~' '~' '~' '~' '~' '~' '~']\n",
      " ['~' '~' '~' '~' '~' '~' '~' '~' '~' '~']]\n"
     ]
    }
   ],
   "source": [
    "import numpy as np\n",
    "tablero = np.full((10,10),\"~\")\n",
    "\n",
    "disparo = tablero[0:10]\n",
    "\n",
    "disparar_fila = int(input(\"Selecciona una fila\"))\n",
    "disparar_colm = int(input(\"Selecciona una columna\"))\n",
    "\n",
    "disparo[disparar_fila,disparar_colm] = \"X\"\n",
    "print(tablero)"
   ]
  },
  {
   "cell_type": "code",
   "execution_count": null,
   "metadata": {},
   "outputs": [],
   "source": [
    "import numpy as np\n",
    "\n",
    "\"\"\"\n",
    "Copia tablero de la máquina para jugar sobre él\n",
    "\n",
    "OPCIONES\n",
    "-> Si aciertas repites.\n",
    "-> Si fallas paras de jugar.\n",
    "-> Si disparas en un sitio donde ya has disparado vuelves a disparar.\n",
    "\"\"\"\n",
    "\n",
    "juego = tablero_machine.copy()\n",
    "disparo = juego[0:10]\n",
    "\n",
    "disparar_fila = int(input(\"Selecciona una fila\"))\n",
    "disparar_colm = int(input(\"Selecciona una columna\"))\n",
    "\n",
    "disparo = juego[disparar_fila,disparar_colm]\n",
    "\n",
    "# Mientras aciertas\n",
    "while disparo == 'O':\n",
    "    juego[disparar_fila,disparar_colm] = 'X'\n",
    "    print(juego)\n",
    "    \n",
    "    disparar_fila = int(input(\"Selecciona una fila\"))\n",
    "    disparar_colm = int(input(\"Selecciona una columna\"))\n",
    "    disparo = juego[disparar_fila,disparar_colm]  \n",
    "    continue\n",
    "\n",
    "# Si das agua\n",
    "if disparo != 'O':\n",
    "    juego[disparar_fila,disparar_colm] = '*'\n",
    "\n",
    "#Falta si disparo donde ya disparé\n",
    "while disparo == \"X\" or disparo == \"*\":\n",
    "    print(\"No puedes disparar ahí, prueba de nuevo\")\n",
    "\n",
    "    disparar_fila = int(input(\"Selecciona una fila\"))\n",
    "    disparar_colm = int(input(\"Selecciona una columna\"))\n",
    "    disparo = juego[disparar_fila,disparar_colm]  \n",
    "    continue\n",
    "\n",
    "\n",
    "print(juego)"
   ]
=======
   "execution_count": null,
   "metadata": {},
   "outputs": [],
   "source": []
>>>>>>> 931a86c1e9573b9f85d426a7ada7cd8ceb15eded
  }
 ],
 "metadata": {
  "kernelspec": {
   "display_name": "Python 3",
   "language": "python",
   "name": "python3"
  },
  "language_info": {
<<<<<<< HEAD
   "codemirror_mode": {
    "name": "ipython",
    "version": 3
   },
   "file_extension": ".py",
   "mimetype": "text/x-python",
   "name": "python",
   "nbconvert_exporter": "python",
   "pygments_lexer": "ipython3",
=======
   "name": "python",
>>>>>>> 931a86c1e9573b9f85d426a7ada7cd8ceb15eded
   "version": "3.9.13"
  },
  "orig_nbformat": 4,
  "vscode": {
   "interpreter": {
    "hash": "8df1771556d69f9aa81c7e5b9f82a1f88ce361bbedd71943be1c74c804727adb"
   }
  }
 },
 "nbformat": 4,
 "nbformat_minor": 2
}
