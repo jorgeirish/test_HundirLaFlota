{
 "cells": [
  {
   "cell_type": "code",
   "execution_count": 1,
   "metadata": {},
   "outputs": [
    {
     "name": "stdout",
     "output_type": "stream",
     "text": [
      "Estos son tus barcos\n",
      "[['~' '~' '~' '~' '~' 'O' 'O' '~' '~' '~']\n",
      " ['~' '~' 'O' '~' '~' '~' '~' '~' '~' '~']\n",
      " ['~' '~' '~' '~' '~' '~' '~' '~' '~' '~']\n",
      " ['~' '~' '~' '~' '~' '~' 'O' '~' '~' '~']\n",
      " ['~' '~' '~' 'O' 'O' 'O' 'O' '~' '~' '~']\n",
      " ['~' '~' '~' 'O' '~' '~' 'O' '~' '~' '~']\n",
      " ['~' '~' '~' '~' '~' '~' '~' '~' 'O' '~']\n",
      " ['O' '~' '~' '~' '~' '~' '~' 'O' 'O' 'O']\n",
      " ['~' '~' '~' '~' '~' '~' '~' '~' 'O' '~']\n",
      " ['~' '~' 'O' 'O' 'O' 'O' '~' '~' '~' '~']]          \n"
     ]
    }
   ],
   "source": [
    "import numpy as np\n",
    "\n",
    "# Tablero selección barcos 10x10 con agua\n",
    "\n",
    "def LockIn(): \n",
    "\n",
    "    tablero = np.full((10,10),\"~\")\n",
    "\n",
    "    print(\"Estos son tus barcos\")\n",
    "\n",
    "    def colocar_barcos(barco):\n",
    "\n",
    "        eslora = barco\n",
    "        import random\n",
    "\n",
    "        while True:\n",
    "            # 'N' - 'S' - 'E' - 'O'\n",
    "            orient = random.choice(['N', 'S', 'E', 'O'])\n",
    "\n",
    "            # Posicion inicial del barco\n",
    "            current_pos = np.random.randint(10, size = 2)\n",
    "    \n",
    "            fila = current_pos[0]\n",
    "            col = current_pos[1]\n",
    "    \n",
    "            # Recogemos las 4 posiciones colindantes a current_pos\n",
    "            coors_posN = tablero[fila:fila - eslora:-1, col]\n",
    "            coors_posE = tablero[fila, col: col + eslora]\n",
    "            coors_posS = tablero[fila:fila + eslora, col]\n",
    "            coors_posO = tablero[fila, col: col - eslora:-1]\n",
    "    \n",
    "            # Comprobamos si esas posiciones son validas\n",
    "            # Orientacion Norte\n",
    "            if orient == 'N' and 0 <= fila - eslora < 10 and 'O' not in coors_posN:\n",
    "                tablero[fila:fila - eslora:-1, col] = 'O'\n",
    "                break\n",
    "\n",
    "            # Orientacion Este\n",
    "            elif orient == 'E' and 0 <= col + eslora < 10 and 'O' not in coors_posE:\n",
    "                tablero[fila, col: col + eslora] = 'O'\n",
    "                break\n",
    "\n",
    "            # Orientacion Sur\n",
    "            elif orient == 'S' and 0 <= fila + eslora < 10 and 'O' not in coors_posS:\n",
    "                tablero[fila:fila + eslora, col] = 'O'\n",
    "                break\n",
    "\n",
    "            # Orientacion Oeste\n",
    "            elif orient == 'O' and 0 <= col - eslora < 10 and 'O' not in coors_posO:\n",
    "                tablero[fila, col: col - eslora:-1] = 'O'\n",
    "                break\n",
    "\n",
    "            # No cumple con las dimensiones del tablero, o hay un barco ahi\n",
    "            # Probamos con otra coordenada\n",
    "            else:\n",
    "                continue\n",
    "        return \"\"\n",
    "\n",
    "    print(tablero,\n",
    "colocar_barcos(1),\n",
    "colocar_barcos(1),\n",
    "colocar_barcos(1),\n",
    "colocar_barcos(1),\n",
    "colocar_barcos(2),\n",
    "colocar_barcos(2),\n",
    "colocar_barcos(2),\n",
    "colocar_barcos(3),\n",
    "colocar_barcos(3),\n",
    "colocar_barcos(4))\n"
   ]
  }
 ],
 "metadata": {
  "kernelspec": {
   "display_name": "Python 3",
   "language": "python",
   "name": "python3"
  },
  "language_info": {
   "codemirror_mode": {
    "name": "ipython",
    "version": 3
   },
   "file_extension": ".py",
   "mimetype": "text/x-python",
   "name": "python",
   "nbconvert_exporter": "python",
   "pygments_lexer": "ipython3",
   "version": "3.9.13"
  },
  "orig_nbformat": 4,
  "vscode": {
   "interpreter": {
    "hash": "8df1771556d69f9aa81c7e5b9f82a1f88ce361bbedd71943be1c74c804727adb"
   }
  }
 },
 "nbformat": 4,
 "nbformat_minor": 2
}
